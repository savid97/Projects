{
 "cells": [
  {
   "cell_type": "markdown",
   "id": "aff3aed4-6e2e-4965-a785-c074b721777d",
   "metadata": {},
   "source": [
    "# Imporing libraries "
   ]
  },
  {
   "cell_type": "code",
   "execution_count": 8,
   "id": "9abcb233-4619-4caf-b374-42a73319d477",
   "metadata": {},
   "outputs": [],
   "source": [
    "import pandas as pd\n",
    "import numpy as np\n",
    "import matplotlib.pyplot as plt\n",
    "import seaborn as sns \n",
    "sns.set_style('darkgrid')\n",
    "from sklearn.impute import SimpleImputer\n",
    "from sklearn.preprocessing import MinMaxScaler\n",
    "from sklearn.decomposition import PCA\n",
    "pd.set_option('display.max_rows', 100)"
   ]
  },
  {
   "cell_type": "markdown",
   "id": "5506e58e-4eb3-43ef-ae1f-80dd555cf558",
   "metadata": {},
   "source": [
    "# Helper methods \n"
   ]
  },
  {
   "cell_type": "code",
   "execution_count": 9,
   "id": "f8faa019-eaa7-450f-aeb1-d90b0ccb7071",
   "metadata": {},
   "outputs": [],
   "source": [
    "from pycaret.clustering import *\n",
    "def cluster_impute(df):\n",
    "    list_of_headers = list(df.columns)\n",
    "    df = df.replace({'0':np.nan, 0:np.nan})\n",
    "    Clustering = setup(data = df , numeric_features = list_of_headers , normalize = True )\n",
    "    kmeans = create_model('hclust' , num_clusters=5)\n",
    "    kmeans_df = assign_model(kmeans)\n",
    "    for i in list_of_headers:\n",
    "        kmeans_df[i] = kmeans_df[i].fillna(kmeans_df.groupby('Cluster')[i].transform('mean'))\n",
    "    return kmeans_df.iloc[: , :-1]"
   ]
  },
  {
   "cell_type": "code",
   "execution_count": 10,
   "id": "735c0c2a-3cdc-4c4a-b4d4-d97c18cf95e7",
   "metadata": {},
   "outputs": [],
   "source": [
    "\n",
    "def mean_impute(df):\n",
    "    np1 = df.iloc[:,:]\n",
    "    imp_mean = SimpleImputer(missing_values=np.nan, strategy='mean')\n",
    "    np1 = imp_mean.fit_transform(np1)\n",
    "    df1 = pd.DataFrame(data = np1)\n",
    "    df1.columns = df.columns\n",
    "    return df1"
   ]
  },
  {
   "cell_type": "code",
   "execution_count": 11,
   "id": "e5f87d29-7ebe-4df9-9df7-f7a6ff9ce233",
   "metadata": {},
   "outputs": [],
   "source": [
    "def top_3(pca , df):\n",
    "    comps = abs( pca_obj.components_ )\n",
    "    comps = np.argsort(comps)\n",
    "    list_of_columns = [df.columns[comps[0 , -1]] ,df[comps[: , -2]].columns,df[comps[: , -3]].columns]\n",
    "    return list_of_columns"
   ]
  },
  {
   "cell_type": "code",
   "execution_count": 12,
   "id": "a74b361f-74a0-4425-8e15-d96339399148",
   "metadata": {},
   "outputs": [],
   "source": [
    "\n",
    "def minmax_scaler(df):\n",
    "    scaler = MinMaxScaler()\n",
    "    np1 = df.iloc[:,:]\n",
    "    np1 = scaler.fit_transform(np1)\n",
    "    df1 = pd.DataFrame(data = np1)\n",
    "    df1.index = df.index\n",
    "    df1.columns = df.columns\n",
    "    return df1"
   ]
  },
  {
   "cell_type": "code",
   "execution_count": 13,
   "id": "933f0bd2-090f-4145-9396-d9257d08e443",
   "metadata": {},
   "outputs": [],
   "source": [
    "\n",
    "def reduce_to_three(df):\n",
    "    \n",
    "    np1 = df.iloc[:,:]\n",
    "    pca_obj = PCA(n_components=3)\n",
    "    np1 = pca_obj.fit_transform(np1)\n",
    "    #print(top_3(pca_obj ,df_tech ))\n",
    "    #df_citizen_pca = pca_obj.fit_transform(df_citizen)\n",
    "    #print(top_3(pca_obj ,df_citizen ))\n",
    "    var = pca_obj.explained_variance_ratio_\n",
    "    comps = abs( pca_obj.components_ )\n",
    "    comps = np.argsort(comps)\n",
    "    one = comps[0 , -1]\n",
    "    two = comps[1 , -1]\n",
    "    three = comps[2 , -1]\n",
    "    list_of_column_headers = []\n",
    "    \n",
    "    df1 = pd.DataFrame(data = np1)\n",
    "    df1.index = df.index\n",
    "    list_of_column_headers.append(df.columns[one])\n",
    "    list_of_column_headers.append(df.columns[two])\n",
    "    list_of_column_headers.append(df.columns[three])\n",
    "    j = 0\n",
    "    for i in list_of_column_headers:\n",
    "        df1.rename(columns={j: str(i)} , inplace = True)\n",
    "        j+=1\n",
    "    return df1   "
   ]
  },
  {
   "cell_type": "markdown",
   "id": "886d2c70-a04e-4246-aadc-43582f55eb90",
   "metadata": {},
   "source": [
    "# loading data"
   ]
  },
  {
   "cell_type": "code",
   "execution_count": 14,
   "id": "dc869a73-252b-4ab0-ba39-30563cc066c7",
   "metadata": {},
   "outputs": [],
   "source": [
    "df_tech = pd.read_csv(\"Copy of ECIU data team E - archi_tech.csv\" , index_col = \"code_city\")\n",
    "df_citizen = pd.read_csv(\"Copy of ECIU data team E - citizen.csv\" ,index_col = \"code_city\")\n",
    "df_economy = pd.read_csv(\"ECIU data team E - economy.csv\",index_col = \"code_city\")\n",
    "df_economy = df_economy.iloc[: , :-7]\n",
    "df_envieronment = pd.read_csv(\"ECIU data team E - environment.csv\",index_col = \"code_city\")\n",
    "df_envieronment = df_envieronment.iloc[: , :-7]\n",
    "df_government = pd.read_csv(\"Copy of ECIU data team E - government.csv\",index_col = \"code_city\")\n",
    "df_living = pd.read_csv(\"Copy of ECIU data team E - living.csv\",index_col = \"code_city\")\n",
    "df_mobility = pd.read_csv(\"Copy of ECIU data team E - mobility.csv\",index_col = \"code_city\")\n",
    "df_pop = pd.read_csv(\"Copy of ECIU data team E - Sheet1.csv\",index_col = \"code_city\")"
   ]
  },
  {
   "cell_type": "code",
   "execution_count": 8,
   "id": "3a48f05f-bbb8-4c0e-a7f4-69136f25bf6f",
   "metadata": {},
   "outputs": [
    {
     "data": {
      "text/html": [
       "<div>\n",
       "<style scoped>\n",
       "    .dataframe tbody tr th:only-of-type {\n",
       "        vertical-align: middle;\n",
       "    }\n",
       "\n",
       "    .dataframe tbody tr th {\n",
       "        vertical-align: top;\n",
       "    }\n",
       "\n",
       "    .dataframe thead th {\n",
       "        text-align: right;\n",
       "    }\n",
       "</style>\n",
       "<table border=\"1\" class=\"dataframe\">\n",
       "  <thead>\n",
       "    <tr style=\"text-align: right;\">\n",
       "      <th></th>\n",
       "      <th>Silhouette</th>\n",
       "      <th>Calinski-Harabasz</th>\n",
       "      <th>Davies-Bouldin</th>\n",
       "      <th>Homogeneity</th>\n",
       "      <th>Rand Index</th>\n",
       "      <th>Completeness</th>\n",
       "    </tr>\n",
       "  </thead>\n",
       "  <tbody>\n",
       "    <tr>\n",
       "      <th>0</th>\n",
       "      <td>0.2853</td>\n",
       "      <td>16.7591</td>\n",
       "      <td>0.9883</td>\n",
       "      <td>0</td>\n",
       "      <td>0</td>\n",
       "      <td>0</td>\n",
       "    </tr>\n",
       "  </tbody>\n",
       "</table>\n",
       "</div>"
      ],
      "text/plain": [
       "   Silhouette  Calinski-Harabasz  Davies-Bouldin  Homogeneity  Rand Index  \\\n",
       "0      0.2853            16.7591          0.9883            0           0   \n",
       "\n",
       "   Completeness  \n",
       "0             0  "
      ]
     },
     "metadata": {},
     "output_type": "display_data"
    }
   ],
   "source": [
    "df_tech  = cluster_impute(df_tech)\n",
    "df_citizen =cluster_impute(df_citizen)\n",
    "df_citizen = mean_impute(df_citizen)\n",
    "df_citizen.index = df_tech.index\n",
    "df_economy = cluster_impute(df_economy)\n",
    "df_envieronment = cluster_impute(df_envieronment)\n",
    "df_envieronment = mean_impute(df_envieronment)\n",
    "df_envieronment.index = df_tech.index\n",
    "df_government =cluster_impute(df_government)\n",
    "df_living =cluster_impute(df_living)\n",
    "df_mobility = cluster_impute(df_mobility)\n",
    "df_mobility = mean_impute(df_mobility)\n",
    "df_mobility.index = df_tech.index\n",
    "df_pop = cluster_impute(df_pop)"
   ]
  },
  {
   "cell_type": "code",
   "execution_count": 11,
   "id": "69004960-53b4-429c-8806-808c94059dda",
   "metadata": {},
   "outputs": [],
   "source": [
    "df_tech_pca  = minmax_scaler(df_tech)\n",
    "df_citizen_pca =minmax_scaler(df_citizen)\n",
    "df_economy_pca = minmax_scaler(df_economy)\n",
    "df_envieronment_pca = minmax_scaler(df_envieronment)\n",
    "df_government_pca =minmax_scaler(df_government)\n",
    "df_living_pca =minmax_scaler(df_living)\n",
    "df_mobility_pca = minmax_scaler(df_mobility)\n",
    "df_pop_pca = minmax_scaler(df_pop)"
   ]
  },
  {
   "cell_type": "code",
   "execution_count": 12,
   "id": "53dc2b01-f5d8-42dd-8ca7-cd7419a9114b",
   "metadata": {},
   "outputs": [],
   "source": [
    "df_tech_pca  = reduce_to_three(df_tech_pca)\n",
    "df_citizen_pca =reduce_to_three(df_citizen_pca)\n",
    "df_economy_pca = reduce_to_three(df_economy_pca)\n",
    "df_envieronment_pca = reduce_to_three(df_envieronment_pca)\n",
    "df_government_pca =reduce_to_three(df_government_pca)\n",
    "df_living_pca =reduce_to_three(df_living_pca)\n",
    "df_mobility_pca = reduce_to_three(df_mobility_pca)\n",
    "df_pop_pca = reduce_to_three(df_pop_pca)\n",
    "df_pop_pca = df_pop_pca.iloc[: , :-1]"
   ]
  },
  {
   "cell_type": "code",
   "execution_count": 13,
   "id": "1d695397-3349-4ef6-94de-53e5779f3956",
   "metadata": {},
   "outputs": [],
   "source": [
    "full_df_nopca = pd.concat([df_tech , df_citizen  ,df_economy,df_envieronment, df_government ,df_living,df_mobility ,df_pop] , axis = 1)\n",
    "full_df_pca = pd.concat([df_tech_pca , df_citizen_pca  ,df_economy_pca,df_envieronment_pca , df_government_pca ,df_living_pca,df_mobility_pca,df_pop_pca ] , axis = 1)\n",
    "full_df = pd.concat([df_tech , df_citizen  ,df_economy,df_envieronment, df_government ,df_living,df_mobility ,df_pop] , axis = 1)"
   ]
  },
  {
   "cell_type": "markdown",
   "id": "fb7e5025-2ac2-4b4b-b8db-3f8976ef1b3e",
   "metadata": {},
   "source": [
    "# Correlation analysis "
   ]
  },
  {
   "cell_type": "code",
   "execution_count": 14,
   "id": "bad468df-ebd9-4be8-b91c-4cf1e5e2a304",
   "metadata": {},
   "outputs": [],
   "source": [
    "true_and_false = full_df_nopca.corr()>0.8"
   ]
  },
  {
   "cell_type": "code",
   "execution_count": 15,
   "id": "be6191c5-0a82-425c-9114-fdb6d24839b4",
   "metadata": {},
   "outputs": [
    {
     "data": {
      "text/html": [
       "<div>\n",
       "<style scoped>\n",
       "    .dataframe tbody tr th:only-of-type {\n",
       "        vertical-align: middle;\n",
       "    }\n",
       "\n",
       "    .dataframe tbody tr th {\n",
       "        vertical-align: top;\n",
       "    }\n",
       "\n",
       "    .dataframe thead th {\n",
       "        text-align: right;\n",
       "    }\n",
       "</style>\n",
       "<table border=\"1\" class=\"dataframe\">\n",
       "  <thead>\n",
       "    <tr style=\"text-align: right;\">\n",
       "      <th></th>\n",
       "      <th>online_purchase</th>\n",
       "      <th>access</th>\n",
       "      <th>consult_voting</th>\n",
       "      <th>submit_forms</th>\n",
       "    </tr>\n",
       "  </thead>\n",
       "  <tbody>\n",
       "    <tr>\n",
       "      <th>access</th>\n",
       "      <td>False</td>\n",
       "      <td>True</td>\n",
       "      <td>False</td>\n",
       "      <td>False</td>\n",
       "    </tr>\n",
       "    <tr>\n",
       "      <th>ent_broadband</th>\n",
       "      <td>False</td>\n",
       "      <td>False</td>\n",
       "      <td>False</td>\n",
       "      <td>False</td>\n",
       "    </tr>\n",
       "    <tr>\n",
       "      <th>power</th>\n",
       "      <td>False</td>\n",
       "      <td>False</td>\n",
       "      <td>False</td>\n",
       "      <td>False</td>\n",
       "    </tr>\n",
       "    <tr>\n",
       "      <th>communication</th>\n",
       "      <td>False</td>\n",
       "      <td>False</td>\n",
       "      <td>False</td>\n",
       "      <td>False</td>\n",
       "    </tr>\n",
       "    <tr>\n",
       "      <th>electronics</th>\n",
       "      <td>False</td>\n",
       "      <td>False</td>\n",
       "      <td>False</td>\n",
       "      <td>False</td>\n",
       "    </tr>\n",
       "    <tr>\n",
       "      <th>...</th>\n",
       "      <td>...</td>\n",
       "      <td>...</td>\n",
       "      <td>...</td>\n",
       "      <td>...</td>\n",
       "    </tr>\n",
       "    <tr>\n",
       "      <th>life_expectancy</th>\n",
       "      <td>False</td>\n",
       "      <td>False</td>\n",
       "      <td>False</td>\n",
       "      <td>False</td>\n",
       "    </tr>\n",
       "    <tr>\n",
       "      <th>gdp_city</th>\n",
       "      <td>False</td>\n",
       "      <td>False</td>\n",
       "      <td>False</td>\n",
       "      <td>False</td>\n",
       "    </tr>\n",
       "    <tr>\n",
       "      <th>pop_total</th>\n",
       "      <td>False</td>\n",
       "      <td>False</td>\n",
       "      <td>False</td>\n",
       "      <td>False</td>\n",
       "    </tr>\n",
       "    <tr>\n",
       "      <th>urban_growth</th>\n",
       "      <td>False</td>\n",
       "      <td>False</td>\n",
       "      <td>False</td>\n",
       "      <td>False</td>\n",
       "    </tr>\n",
       "    <tr>\n",
       "      <th>covid_cases</th>\n",
       "      <td>False</td>\n",
       "      <td>False</td>\n",
       "      <td>False</td>\n",
       "      <td>False</td>\n",
       "    </tr>\n",
       "  </tbody>\n",
       "</table>\n",
       "<p>86 rows × 4 columns</p>\n",
       "</div>"
      ],
      "text/plain": [
       "                 online_purchase  access  consult_voting  submit_forms\n",
       "access                     False    True           False         False\n",
       "ent_broadband              False   False           False         False\n",
       "power                      False   False           False         False\n",
       "communication              False   False           False         False\n",
       "electronics                False   False           False         False\n",
       "...                          ...     ...             ...           ...\n",
       "life_expectancy            False   False           False         False\n",
       "gdp_city                   False   False           False         False\n",
       "pop_total                  False   False           False         False\n",
       "urban_growth               False   False           False         False\n",
       "covid_cases                False   False           False         False\n",
       "\n",
       "[86 rows x 4 columns]"
      ]
     },
     "execution_count": 15,
     "metadata": {},
     "output_type": "execute_result"
    }
   ],
   "source": [
    "true_and_false[['online_purchase' , 'access', 'consult_voting' ,'submit_forms' ]]\n"
   ]
  },
  {
   "cell_type": "markdown",
   "id": "5d7fff02-df50-47f7-abbf-9cfcfdc0ed63",
   "metadata": {},
   "source": [
    "# Clustering "
   ]
  },
  {
   "cell_type": "code",
   "execution_count": 17,
   "id": "69cf866b-659b-460c-8f6d-d1398ef64f03",
   "metadata": {},
   "outputs": [
    {
     "data": {
      "text/html": [
       "<div>\n",
       "<style scoped>\n",
       "    .dataframe tbody tr th:only-of-type {\n",
       "        vertical-align: middle;\n",
       "    }\n",
       "\n",
       "    .dataframe tbody tr th {\n",
       "        vertical-align: top;\n",
       "    }\n",
       "\n",
       "    .dataframe thead th {\n",
       "        text-align: right;\n",
       "    }\n",
       "</style>\n",
       "<table border=\"1\" class=\"dataframe\">\n",
       "  <thead>\n",
       "    <tr style=\"text-align: right;\">\n",
       "      <th></th>\n",
       "      <th>Silhouette</th>\n",
       "      <th>Calinski-Harabasz</th>\n",
       "      <th>Davies-Bouldin</th>\n",
       "      <th>Homogeneity</th>\n",
       "      <th>Rand Index</th>\n",
       "      <th>Completeness</th>\n",
       "    </tr>\n",
       "  </thead>\n",
       "  <tbody>\n",
       "    <tr>\n",
       "      <th>0</th>\n",
       "      <td>0.243696</td>\n",
       "      <td>12.980034</td>\n",
       "      <td>1.39953</td>\n",
       "      <td>0</td>\n",
       "      <td>0</td>\n",
       "      <td>0</td>\n",
       "    </tr>\n",
       "  </tbody>\n",
       "</table>\n",
       "</div>"
      ],
      "text/plain": [
       "   Silhouette  Calinski-Harabasz  Davies-Bouldin  Homogeneity  Rand Index  \\\n",
       "0    0.243696          12.980034         1.39953            0           0   \n",
       "\n",
       "   Completeness  \n",
       "0             0  "
      ]
     },
     "metadata": {},
     "output_type": "display_data"
    },
    {
     "data": {
      "application/vnd.jupyter.widget-view+json": {
       "model_id": "7605cf5fff7345139e3ed6c34c967dc3",
       "version_major": 2,
       "version_minor": 0
      },
      "text/plain": [
       "interactive(children=(ToggleButtons(description='Plot Type:', icons=('',), options=(('Cluster PCA Plot (2d)', …"
      ]
     },
     "metadata": {},
     "output_type": "display_data"
    }
   ],
   "source": [
    "from pycaret.clustering import *\n",
    "exp_name = setup(data = full_df_pca)\n",
    "knn_pca = create_model('kmeans' , num_clusters =3,round = 15 )\n",
    "knn_df_pca = assign_model(knn_pca)\n",
    "evaluate_model(knn_pca)\n"
   ]
  },
  {
   "cell_type": "code",
   "execution_count": 19,
   "id": "555eb394-cdd2-45c3-aef7-fa29fadbf610",
   "metadata": {},
   "outputs": [],
   "source": [
    "pca_df = full_df_nopca[list(full_df_pca.columns)]\n",
    "pca_df['Cluster'] = knn_df_pca.Cluster\n",
    "full_df['Cluster'] = knn_df_pca.Cluster"
   ]
  },
  {
   "cell_type": "code",
   "execution_count": 21,
   "id": "264d7ecc-db18-4328-b3f1-6fe0a0722c2f",
   "metadata": {},
   "outputs": [],
   "source": [
    "kun_clus = pca_df[full_df_nopca.index == 'kau'].Cluster\n",
    "class_df_pca = pca_df.copy()\n",
    "class_df_pca.Cluster[class_df_pca.Cluster != kun_clus.values[0]] = 'Cluster 1'"
   ]
  },
  {
   "cell_type": "code",
   "execution_count": 23,
   "id": "d849619a-7e70-48bf-b4b4-f9ae6d11c9ad",
   "metadata": {},
   "outputs": [],
   "source": [
    "mean_all_pca = pca_df.groupby('Cluster').mean()\n"
   ]
  },
  {
   "cell_type": "markdown",
   "id": "73b104b9-b653-4ad3-9b7e-4e4a64769c01",
   "metadata": {},
   "source": [
    "# Supervised learning "
   ]
  },
  {
   "cell_type": "code",
   "execution_count": 32,
   "id": "b088b619-5f45-4f21-8548-4db1123841a4",
   "metadata": {},
   "outputs": [
    {
     "data": {
      "text/html": [
       "<style type=\"text/css\">\n",
       "#T_d30d1_row10_col0, #T_d30d1_row10_col1, #T_d30d1_row10_col2, #T_d30d1_row10_col3, #T_d30d1_row10_col4, #T_d30d1_row10_col5, #T_d30d1_row10_col6 {\n",
       "  background: yellow;\n",
       "}\n",
       "</style>\n",
       "<table id=\"T_d30d1_\">\n",
       "  <thead>\n",
       "    <tr>\n",
       "      <th class=\"blank level0\" >&nbsp;</th>\n",
       "      <th class=\"col_heading level0 col0\" >Accuracy</th>\n",
       "      <th class=\"col_heading level0 col1\" >AUC</th>\n",
       "      <th class=\"col_heading level0 col2\" >Recall</th>\n",
       "      <th class=\"col_heading level0 col3\" >Prec.</th>\n",
       "      <th class=\"col_heading level0 col4\" >F1</th>\n",
       "      <th class=\"col_heading level0 col5\" >Kappa</th>\n",
       "      <th class=\"col_heading level0 col6\" >MCC</th>\n",
       "    </tr>\n",
       "  </thead>\n",
       "  <tbody>\n",
       "    <tr>\n",
       "      <th id=\"T_d30d1_level0_row0\" class=\"row_heading level0 row0\" >0</th>\n",
       "      <td id=\"T_d30d1_row0_col0\" class=\"data row0 col0\" >1.0000</td>\n",
       "      <td id=\"T_d30d1_row0_col1\" class=\"data row0 col1\" >1.0000</td>\n",
       "      <td id=\"T_d30d1_row0_col2\" class=\"data row0 col2\" >1.0000</td>\n",
       "      <td id=\"T_d30d1_row0_col3\" class=\"data row0 col3\" >1.0000</td>\n",
       "      <td id=\"T_d30d1_row0_col4\" class=\"data row0 col4\" >1.0000</td>\n",
       "      <td id=\"T_d30d1_row0_col5\" class=\"data row0 col5\" >1.0000</td>\n",
       "      <td id=\"T_d30d1_row0_col6\" class=\"data row0 col6\" >1.0000</td>\n",
       "    </tr>\n",
       "    <tr>\n",
       "      <th id=\"T_d30d1_level0_row1\" class=\"row_heading level0 row1\" >1</th>\n",
       "      <td id=\"T_d30d1_row1_col0\" class=\"data row1 col0\" >1.0000</td>\n",
       "      <td id=\"T_d30d1_row1_col1\" class=\"data row1 col1\" >1.0000</td>\n",
       "      <td id=\"T_d30d1_row1_col2\" class=\"data row1 col2\" >1.0000</td>\n",
       "      <td id=\"T_d30d1_row1_col3\" class=\"data row1 col3\" >1.0000</td>\n",
       "      <td id=\"T_d30d1_row1_col4\" class=\"data row1 col4\" >1.0000</td>\n",
       "      <td id=\"T_d30d1_row1_col5\" class=\"data row1 col5\" >1.0000</td>\n",
       "      <td id=\"T_d30d1_row1_col6\" class=\"data row1 col6\" >1.0000</td>\n",
       "    </tr>\n",
       "    <tr>\n",
       "      <th id=\"T_d30d1_level0_row2\" class=\"row_heading level0 row2\" >2</th>\n",
       "      <td id=\"T_d30d1_row2_col0\" class=\"data row2 col0\" >1.0000</td>\n",
       "      <td id=\"T_d30d1_row2_col1\" class=\"data row2 col1\" >1.0000</td>\n",
       "      <td id=\"T_d30d1_row2_col2\" class=\"data row2 col2\" >1.0000</td>\n",
       "      <td id=\"T_d30d1_row2_col3\" class=\"data row2 col3\" >1.0000</td>\n",
       "      <td id=\"T_d30d1_row2_col4\" class=\"data row2 col4\" >1.0000</td>\n",
       "      <td id=\"T_d30d1_row2_col5\" class=\"data row2 col5\" >1.0000</td>\n",
       "      <td id=\"T_d30d1_row2_col6\" class=\"data row2 col6\" >1.0000</td>\n",
       "    </tr>\n",
       "    <tr>\n",
       "      <th id=\"T_d30d1_level0_row3\" class=\"row_heading level0 row3\" >3</th>\n",
       "      <td id=\"T_d30d1_row3_col0\" class=\"data row3 col0\" >1.0000</td>\n",
       "      <td id=\"T_d30d1_row3_col1\" class=\"data row3 col1\" >1.0000</td>\n",
       "      <td id=\"T_d30d1_row3_col2\" class=\"data row3 col2\" >1.0000</td>\n",
       "      <td id=\"T_d30d1_row3_col3\" class=\"data row3 col3\" >1.0000</td>\n",
       "      <td id=\"T_d30d1_row3_col4\" class=\"data row3 col4\" >1.0000</td>\n",
       "      <td id=\"T_d30d1_row3_col5\" class=\"data row3 col5\" >1.0000</td>\n",
       "      <td id=\"T_d30d1_row3_col6\" class=\"data row3 col6\" >1.0000</td>\n",
       "    </tr>\n",
       "    <tr>\n",
       "      <th id=\"T_d30d1_level0_row4\" class=\"row_heading level0 row4\" >4</th>\n",
       "      <td id=\"T_d30d1_row4_col0\" class=\"data row4 col0\" >1.0000</td>\n",
       "      <td id=\"T_d30d1_row4_col1\" class=\"data row4 col1\" >1.0000</td>\n",
       "      <td id=\"T_d30d1_row4_col2\" class=\"data row4 col2\" >1.0000</td>\n",
       "      <td id=\"T_d30d1_row4_col3\" class=\"data row4 col3\" >1.0000</td>\n",
       "      <td id=\"T_d30d1_row4_col4\" class=\"data row4 col4\" >1.0000</td>\n",
       "      <td id=\"T_d30d1_row4_col5\" class=\"data row4 col5\" >1.0000</td>\n",
       "      <td id=\"T_d30d1_row4_col6\" class=\"data row4 col6\" >1.0000</td>\n",
       "    </tr>\n",
       "    <tr>\n",
       "      <th id=\"T_d30d1_level0_row5\" class=\"row_heading level0 row5\" >5</th>\n",
       "      <td id=\"T_d30d1_row5_col0\" class=\"data row5 col0\" >1.0000</td>\n",
       "      <td id=\"T_d30d1_row5_col1\" class=\"data row5 col1\" >1.0000</td>\n",
       "      <td id=\"T_d30d1_row5_col2\" class=\"data row5 col2\" >1.0000</td>\n",
       "      <td id=\"T_d30d1_row5_col3\" class=\"data row5 col3\" >1.0000</td>\n",
       "      <td id=\"T_d30d1_row5_col4\" class=\"data row5 col4\" >1.0000</td>\n",
       "      <td id=\"T_d30d1_row5_col5\" class=\"data row5 col5\" >1.0000</td>\n",
       "      <td id=\"T_d30d1_row5_col6\" class=\"data row5 col6\" >1.0000</td>\n",
       "    </tr>\n",
       "    <tr>\n",
       "      <th id=\"T_d30d1_level0_row6\" class=\"row_heading level0 row6\" >6</th>\n",
       "      <td id=\"T_d30d1_row6_col0\" class=\"data row6 col0\" >1.0000</td>\n",
       "      <td id=\"T_d30d1_row6_col1\" class=\"data row6 col1\" >1.0000</td>\n",
       "      <td id=\"T_d30d1_row6_col2\" class=\"data row6 col2\" >1.0000</td>\n",
       "      <td id=\"T_d30d1_row6_col3\" class=\"data row6 col3\" >1.0000</td>\n",
       "      <td id=\"T_d30d1_row6_col4\" class=\"data row6 col4\" >1.0000</td>\n",
       "      <td id=\"T_d30d1_row6_col5\" class=\"data row6 col5\" >1.0000</td>\n",
       "      <td id=\"T_d30d1_row6_col6\" class=\"data row6 col6\" >1.0000</td>\n",
       "    </tr>\n",
       "    <tr>\n",
       "      <th id=\"T_d30d1_level0_row7\" class=\"row_heading level0 row7\" >7</th>\n",
       "      <td id=\"T_d30d1_row7_col0\" class=\"data row7 col0\" >1.0000</td>\n",
       "      <td id=\"T_d30d1_row7_col1\" class=\"data row7 col1\" >1.0000</td>\n",
       "      <td id=\"T_d30d1_row7_col2\" class=\"data row7 col2\" >1.0000</td>\n",
       "      <td id=\"T_d30d1_row7_col3\" class=\"data row7 col3\" >1.0000</td>\n",
       "      <td id=\"T_d30d1_row7_col4\" class=\"data row7 col4\" >1.0000</td>\n",
       "      <td id=\"T_d30d1_row7_col5\" class=\"data row7 col5\" >1.0000</td>\n",
       "      <td id=\"T_d30d1_row7_col6\" class=\"data row7 col6\" >1.0000</td>\n",
       "    </tr>\n",
       "    <tr>\n",
       "      <th id=\"T_d30d1_level0_row8\" class=\"row_heading level0 row8\" >8</th>\n",
       "      <td id=\"T_d30d1_row8_col0\" class=\"data row8 col0\" >1.0000</td>\n",
       "      <td id=\"T_d30d1_row8_col1\" class=\"data row8 col1\" >1.0000</td>\n",
       "      <td id=\"T_d30d1_row8_col2\" class=\"data row8 col2\" >1.0000</td>\n",
       "      <td id=\"T_d30d1_row8_col3\" class=\"data row8 col3\" >1.0000</td>\n",
       "      <td id=\"T_d30d1_row8_col4\" class=\"data row8 col4\" >1.0000</td>\n",
       "      <td id=\"T_d30d1_row8_col5\" class=\"data row8 col5\" >1.0000</td>\n",
       "      <td id=\"T_d30d1_row8_col6\" class=\"data row8 col6\" >1.0000</td>\n",
       "    </tr>\n",
       "    <tr>\n",
       "      <th id=\"T_d30d1_level0_row9\" class=\"row_heading level0 row9\" >9</th>\n",
       "      <td id=\"T_d30d1_row9_col0\" class=\"data row9 col0\" >1.0000</td>\n",
       "      <td id=\"T_d30d1_row9_col1\" class=\"data row9 col1\" >1.0000</td>\n",
       "      <td id=\"T_d30d1_row9_col2\" class=\"data row9 col2\" >1.0000</td>\n",
       "      <td id=\"T_d30d1_row9_col3\" class=\"data row9 col3\" >1.0000</td>\n",
       "      <td id=\"T_d30d1_row9_col4\" class=\"data row9 col4\" >1.0000</td>\n",
       "      <td id=\"T_d30d1_row9_col5\" class=\"data row9 col5\" >1.0000</td>\n",
       "      <td id=\"T_d30d1_row9_col6\" class=\"data row9 col6\" >1.0000</td>\n",
       "    </tr>\n",
       "    <tr>\n",
       "      <th id=\"T_d30d1_level0_row10\" class=\"row_heading level0 row10\" >Mean</th>\n",
       "      <td id=\"T_d30d1_row10_col0\" class=\"data row10 col0\" >1.0000</td>\n",
       "      <td id=\"T_d30d1_row10_col1\" class=\"data row10 col1\" >1.0000</td>\n",
       "      <td id=\"T_d30d1_row10_col2\" class=\"data row10 col2\" >1.0000</td>\n",
       "      <td id=\"T_d30d1_row10_col3\" class=\"data row10 col3\" >1.0000</td>\n",
       "      <td id=\"T_d30d1_row10_col4\" class=\"data row10 col4\" >1.0000</td>\n",
       "      <td id=\"T_d30d1_row10_col5\" class=\"data row10 col5\" >1.0000</td>\n",
       "      <td id=\"T_d30d1_row10_col6\" class=\"data row10 col6\" >1.0000</td>\n",
       "    </tr>\n",
       "    <tr>\n",
       "      <th id=\"T_d30d1_level0_row11\" class=\"row_heading level0 row11\" >SD</th>\n",
       "      <td id=\"T_d30d1_row11_col0\" class=\"data row11 col0\" >0.0000</td>\n",
       "      <td id=\"T_d30d1_row11_col1\" class=\"data row11 col1\" >0.0000</td>\n",
       "      <td id=\"T_d30d1_row11_col2\" class=\"data row11 col2\" >0.0000</td>\n",
       "      <td id=\"T_d30d1_row11_col3\" class=\"data row11 col3\" >0.0000</td>\n",
       "      <td id=\"T_d30d1_row11_col4\" class=\"data row11 col4\" >0.0000</td>\n",
       "      <td id=\"T_d30d1_row11_col5\" class=\"data row11 col5\" >0.0000</td>\n",
       "      <td id=\"T_d30d1_row11_col6\" class=\"data row11 col6\" >0.0000</td>\n",
       "    </tr>\n",
       "  </tbody>\n",
       "</table>\n"
      ],
      "text/plain": [
       "<pandas.io.formats.style.Styler at 0x14fcf8c9f10>"
      ]
     },
     "metadata": {},
     "output_type": "display_data"
    },
    {
     "data": {
      "application/vnd.jupyter.widget-view+json": {
       "model_id": "e44843e4d6f34e169713ab897f2443b0",
       "version_major": 2,
       "version_minor": 0
      },
      "text/plain": [
       "interactive(children=(ToggleButtons(description='Plot Type:', icons=('',), options=(('Hyperparameters', 'param…"
      ]
     },
     "metadata": {},
     "output_type": "display_data"
    }
   ],
   "source": [
    "list_of_headers = list(class_df_pca.columns)\n",
    "list_of_headers = list_of_headers[:-1]\n",
    "from pycaret.classification import *\n",
    "exp_name = setup(data = class_df_pca,  target = 'Cluster', train_size = 0.9,numeric_features = list_of_headers,normalize = True ,normalize_method = 'minmax' , feature_selection = True)\n",
    "model = create_model('rf')\n",
    "evaluate_model(model)"
   ]
  },
  {
   "cell_type": "code",
   "execution_count": 106,
   "id": "2f4dc0cb-5295-4a61-8a69-adc46316163c",
   "metadata": {},
   "outputs": [],
   "source": [
    "countries_labeled = countries_labeled[['City']]"
   ]
  },
  {
   "cell_type": "code",
   "execution_count": 107,
   "id": "59998249-a98e-47ee-8189-593d22fccd33",
   "metadata": {},
   "outputs": [],
   "source": [
    "countries_labeled['Cluster'] = knn_df_pca['Cluster'].values"
   ]
  },
  {
   "cell_type": "code",
   "execution_count": 111,
   "id": "8692a7fd-7fff-4a7c-9705-28c4f684db78",
   "metadata": {},
   "outputs": [],
   "source": [
    "most_important_features = ['online_purchase' , 'access', 'consult_voting' ,'submit_forms' , 'ent_onlineorders','cost_living_local' ,'pop_total','disused','public_transport' ,'metro_length']\n",
    "df_most_important = pca_df[most_important_features]\n",
    "pca_df_means = pca_df.groupby('Cluster').mean()\n",
    "df_most_important['Cluster'] = pca_df.Cluster\n",
    "df_important_mean = df_most_important.groupby('Cluster').mean()\n",
    "#df_most_important1 = minmax_scaler(df_most_important.iloc[:,:-1])\n",
    "#df_most_important1['Cluster'] = df_most_important.Cluster\n",
    "#df_kaunas = df_most_important1"
   ]
  },
  {
   "cell_type": "code",
   "execution_count": 33,
   "id": "261ed918-6408-4c98-819e-001d0faa508b",
   "metadata": {},
   "outputs": [
    {
     "ename": "NameError",
     "evalue": "name 'df_most_important' is not defined",
     "output_type": "error",
     "traceback": [
      "\u001b[1;31m---------------------------------------------------------------------------\u001b[0m",
      "\u001b[1;31mNameError\u001b[0m                                 Traceback (most recent call last)",
      "\u001b[1;32m~\\AppData\\Local\\Temp/ipykernel_4944/885291142.py\u001b[0m in \u001b[0;36m<module>\u001b[1;34m\u001b[0m\n\u001b[1;32m----> 1\u001b[1;33m \u001b[0mdf_most_important\u001b[0m\u001b[1;33m.\u001b[0m\u001b[0mgroupby\u001b[0m\u001b[1;33m(\u001b[0m\u001b[1;34m'Cluster'\u001b[0m\u001b[1;33m)\u001b[0m\u001b[1;33m.\u001b[0m\u001b[0mmean\u001b[0m\u001b[1;33m(\u001b[0m\u001b[1;33m)\u001b[0m\u001b[1;33m\u001b[0m\u001b[1;33m\u001b[0m\u001b[0m\n\u001b[0m",
      "\u001b[1;31mNameError\u001b[0m: name 'df_most_important' is not defined"
     ]
    }
   ],
   "source": [
    "df_most_important.groupby('Cluster').mean()"
   ]
  },
  {
   "cell_type": "code",
   "execution_count": 124,
   "id": "4df81457-2239-41cb-bcd3-359182f7ad07",
   "metadata": {},
   "outputs": [],
   "source": [
    "full_df1 = full_df[['gdp_city' , 'pop_city' , 'density' , 'Cluster']].groupby('Cluster').mean()"
   ]
  },
  {
   "cell_type": "markdown",
   "id": "cfff8699-a7a3-41eb-9dfc-eccb15a160b1",
   "metadata": {},
   "source": [
    "# Core features of every cluster "
   ]
  },
  {
   "cell_type": "code",
   "execution_count": 113,
   "id": "d2b74de0-d2ae-4d11-93aa-5340a86170fa",
   "metadata": {},
   "outputs": [],
   "source": [
    "cluster0 = []\n",
    "cluster1 = []\n",
    "cluster2 = []\n",
    "for i in pca_df_means.columns:\n",
    "    index = pca_df_means[i].values.argmax()\n",
    "    if index == 0 :\n",
    "        cluster0.append(i)\n",
    "    elif index ==  1:\n",
    "        cluster1.append(i)\n",
    "    else :\n",
    "        cluster2.append(i)"
   ]
  }
 ],
 "metadata": {
  "kernelspec": {
   "display_name": "Python 3 (ipykernel)",
   "language": "python",
   "name": "python3"
  },
  "language_info": {
   "codemirror_mode": {
    "name": "ipython",
    "version": 3
   },
   "file_extension": ".py",
   "mimetype": "text/x-python",
   "name": "python",
   "nbconvert_exporter": "python",
   "pygments_lexer": "ipython3",
   "version": "3.8.8"
  }
 },
 "nbformat": 4,
 "nbformat_minor": 5
}
